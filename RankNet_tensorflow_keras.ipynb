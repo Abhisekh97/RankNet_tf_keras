{
  "nbformat": 4,
  "nbformat_minor": 0,
  "metadata": {
    "colab": {
      "provenance": [],
      "authorship_tag": "ABX9TyNCIo8Mf6w2AHh8HqHY7PnK",
      "include_colab_link": true
    },
    "kernelspec": {
      "name": "python3",
      "display_name": "Python 3"
    },
    "language_info": {
      "name": "python"
    }
  },
  "cells": [
    {
      "cell_type": "markdown",
      "metadata": {
        "id": "view-in-github",
        "colab_type": "text"
      },
      "source": [
        "<a href=\"https://colab.research.google.com/github/Abhisekh97/RankNet_tf_keras/blob/main/RankNet_tensorflow_keras.ipynb\" target=\"_parent\"><img src=\"https://colab.research.google.com/assets/colab-badge.svg\" alt=\"Open In Colab\"/></a>"
      ]
    },
    {
      "cell_type": "code",
      "execution_count": 7,
      "metadata": {
        "id": "xO-PMIDUPpRZ"
      },
      "outputs": [],
      "source": [
        "import tensorflow as tf\n",
        "from tensorflow.keras import layers, activations, losses, Model, Input\n",
        "from tensorflow.nn import leaky_relu\n",
        "import numpy as np\n",
        "from itertools import combinations\n",
        "from tensorflow.keras.utils import plot_model, Progbar\n",
        "import matplotlib.pyplot as plt\n",
        "from sklearn.model_selection import train_test_split\n"
      ]
    },
    {
      "cell_type": "markdown",
      "source": [
        "##  Model Architecture"
      ],
      "metadata": {
        "id": "FeZ8Pl5pTWVR"
      }
    },
    {
      "cell_type": "code",
      "source": [
        "class RankNet(Model):\n",
        "  def __init__(self):\n",
        "    super().__init__(self)\n",
        "    self.dense = [layers.Dense(16, activation=leaky_relu), layers.Dense(8, activation=leaky_relu)]\n",
        "    self.o = layers.Dense(1, activation='linear')\n",
        "    self.oi_minus_oj = layers.Subtract()\n",
        "\n",
        "\n",
        "  def call(self, input):\n",
        "    xi , xj = input\n",
        "    densei = self.dense[0](xi)\n",
        "    densej = self.dense[0](xj)\n",
        "    for dense in self.dense[1:]:\n",
        "      densei = dense(densei)\n",
        "      densej = dense(densej)\n",
        "\n",
        "    oi = self.o(densei)\n",
        "    oj = self.o(densej)\n",
        "    oij = self.oi_minus_oj([oi, oj])\n",
        "    output = layers.Activation('sigmoid')(oij)\n",
        "    return output\n",
        "\n",
        "  def build_graph(self):\n",
        "    x = [Input(shape=(10)), Input(shape=(10))]\n",
        "    return Model(inputs=x, outputs=self.call(x))\n",
        "\n",
        "model = RankNet()\n",
        "model.build_graph().summary()\n"
      ],
      "metadata": {
        "id": "BGhZE8LnP5FX",
        "colab": {
          "base_uri": "https://localhost:8080/"
        },
        "outputId": "4d4aafdc-cf7d-4e78-a4ea-b74f5bb5fdad"
      },
      "execution_count": 8,
      "outputs": [
        {
          "output_type": "stream",
          "name": "stdout",
          "text": [
            "Model: \"model_3\"\n",
            "__________________________________________________________________________________________________\n",
            " Layer (type)                Output Shape                 Param #   Connected to                  \n",
            "==================================================================================================\n",
            " input_7 (InputLayer)        [(None, 10)]                 0         []                            \n",
            "                                                                                                  \n",
            " input_8 (InputLayer)        [(None, 10)]                 0         []                            \n",
            "                                                                                                  \n",
            " dense_9 (Dense)             (None, 16)                   176       ['input_7[0][0]',             \n",
            "                                                                     'input_8[0][0]']             \n",
            "                                                                                                  \n",
            " dense_10 (Dense)            (None, 8)                    136       ['dense_9[0][0]',             \n",
            "                                                                     'dense_9[1][0]']             \n",
            "                                                                                                  \n",
            " dense_11 (Dense)            (None, 1)                    9         ['dense_10[0][0]',            \n",
            "                                                                     'dense_10[1][0]']            \n",
            "                                                                                                  \n",
            " subtract_3 (Subtract)       (None, 1)                    0         ['dense_11[0][0]',            \n",
            "                                                                     'dense_11[1][0]']            \n",
            "                                                                                                  \n",
            " activation_3 (Activation)   (None, 1)                    0         ['subtract_3[0][0]']          \n",
            "                                                                                                  \n",
            "==================================================================================================\n",
            "Total params: 321 (1.25 KB)\n",
            "Trainable params: 321 (1.25 KB)\n",
            "Non-trainable params: 0 (0.00 Byte)\n",
            "__________________________________________________________________________________________________\n"
          ]
        }
      ]
    },
    {
      "cell_type": "code",
      "source": [],
      "metadata": {
        "id": "rjrioqW2hHz6"
      },
      "execution_count": null,
      "outputs": []
    }
  ]
}